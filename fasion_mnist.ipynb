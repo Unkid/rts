{
  "nbformat": 4,
  "nbformat_minor": 0,
  "metadata": {
    "colab": {
      "name": "Copy of keras_example.ipynb",
      "version": "0.3.2",
      "provenance": [],
      "collapsed_sections": [],
      "include_colab_link": true
    },
    "kernelspec": {
      "name": "python3",
      "display_name": "Python 3"
    }
  },
  "cells": [
    {
      "cell_type": "markdown",
      "metadata": {
        "id": "view-in-github",
        "colab_type": "text"
      },
      "source": [
        "<a href=\"https://colab.research.google.com/github/Unkid/rts/blob/master/fasion_mnist.ipynb\" target=\"_parent\"><img src=\"https://colab.research.google.com/assets/colab-badge.svg\" alt=\"Open In Colab\"/></a>"
      ]
    },
    {
      "cell_type": "code",
      "metadata": {
        "id": "czbgyxth0AOR",
        "colab_type": "code",
        "colab": {}
      },
      "source": [
        "from keras.datasets import fashion_mnist\n",
        "from keras.models import Sequential\n",
        "from keras.layers import Dense, Conv2D, MaxPooling2D, Flatten, Dropout\n",
        "from keras.optimizers import Adam\n",
        "from keras.utils import to_categorical\n",
        "import keras\n",
        "import keras.backend as K\n",
        "\n",
        "import matplotlib.pyplot as plt\n",
        "import numpy as np"
      ],
      "execution_count": 0,
      "outputs": []
    },
    {
      "cell_type": "code",
      "metadata": {
        "id": "85vAJQxX2LTJ",
        "colab_type": "code",
        "colab": {}
      },
      "source": [
        "batch_size = 512\n",
        "num_classes = 10\n",
        "epochs = 10"
      ],
      "execution_count": 0,
      "outputs": []
    },
    {
      "cell_type": "code",
      "metadata": {
        "id": "_0--mPwh2RSU",
        "colab_type": "code",
        "outputId": "7430c982-fd1f-404c-b059-b969662507ef",
        "colab": {
          "base_uri": "https://localhost:8080/",
          "height": 52
        }
      },
      "source": [
        "(x_train, y_train), (x_test, y_test) = fashion_mnist.load_data()\n",
        "\n",
        "img_rows = 28\n",
        "img_cols = 28\n",
        "\n",
        "if K.image_data_format() == 'channels_first':\n",
        "    x_train = x_train.reshape(x_train.shape[0], 1, img_rows, img_cols)\n",
        "    x_test = x_test.reshape(x_test.shape[0], 1, img_rows, img_cols)\n",
        "    input_shape = (1, img_rows, img_cols)\n",
        "else:\n",
        "    x_train = x_train.reshape(x_train.shape[0], img_rows, img_cols, 1)\n",
        "    x_test = x_test.reshape(x_test.shape[0], img_rows, img_cols, 1)\n",
        "    input_shape = (img_rows, img_cols, 1)\n",
        "\n",
        "print('data train shape: {0}, label train shape: {1}'.format(x_train.shape, y_train.shape))\n",
        "print('data test shape: {0}, label test shape: {1}'.format(x_test.shape, y_test.shape))"
      ],
      "execution_count": 42,
      "outputs": [
        {
          "output_type": "stream",
          "text": [
            "data train shape: (60000, 28, 28, 1), label train shape: (60000,)\n",
            "data test shape: (10000, 28, 28, 1), label test shape: (10000,)\n"
          ],
          "name": "stdout"
        }
      ]
    },
    {
      "cell_type": "code",
      "metadata": {
        "id": "HKeLfqTw2Ra9",
        "colab_type": "code",
        "outputId": "bf4114e5-1174-4b8d-9e28-5b3374c2ccb5",
        "colab": {
          "base_uri": "https://localhost:8080/",
          "height": 357
        }
      },
      "source": [
        "fig = plt.figure(figsize=(8, 6))\n",
        "\n",
        "for i in range(15):\n",
        "    ax = fig.add_subplot(3, 5, i + 1, xticks=[], yticks=[])\n",
        "    ax.set_xlabel(y_train[i])\n",
        "    ax.imshow(x_train[i,:,:,0], cmap='gray')"
      ],
      "execution_count": 43,
      "outputs": [
        {
          "output_type": "display_data",
          "data": {
            "image/png": "[encoded data removed]",
            "text/plain": [
              "<Figure size 576x432 with 15 Axes>"
            ]
          },
          "metadata": {
            "tags": []
          }
        }
      ]
    },
    {
      "cell_type": "code",
      "metadata": {
        "id": "maUfPy_S2Rd1",
        "colab_type": "code",
        "outputId": "07de3827-908f-45df-eba1-7171fc2242fe",
        "colab": {
          "base_uri": "https://localhost:8080/",
          "height": 52
        }
      },
      "source": [
        "x_train = x_train.astype('float32')\n",
        "x_test = x_test.astype('float32')\n",
        "x_train /= 255.0\n",
        "x_test /= 255.0\n",
        "print(x_train.min(), x_train.max())\n",
        "print(x_test.min(), x_test.max())"
      ],
      "execution_count": 44,
      "outputs": [
        {
          "output_type": "stream",
          "text": [
            "0.0 1.0\n",
            "0.0 1.0\n"
          ],
          "name": "stdout"
        }
      ]
    },
    {
      "cell_type": "code",
      "metadata": {
        "id": "_IYUNbQt2RgE",
        "colab_type": "code",
        "outputId": "e29c4faa-40a7-4d63-8d7f-227944e35af5",
        "colab": {
          "base_uri": "https://localhost:8080/",
          "height": 35
        }
      },
      "source": [
        "y_train = to_categorical(y_train, num_classes)\n",
        "y_test = to_categorical(y_test, num_classes)\n",
        "print(y_train[0])"
      ],
      "execution_count": 45,
      "outputs": [
        {
          "output_type": "stream",
          "text": [
            "[0. 0. 0. 0. 0. 0. 0. 0. 0. 1.]\n"
          ],
          "name": "stdout"
        }
      ]
    },
    {
      "cell_type": "code",
      "metadata": {
        "id": "fy9C8T2N2Ri8",
        "colab_type": "code",
        "colab": {}
      },
      "source": [
        "model = Sequential()\n",
        "#model.add(Conv2D(32, kernel_size=(5, 5),\n",
        "                 #activation='relu',\n",
        "                 #input_shape=input_shape))\n",
        "#model.add(MaxPooling2D(pool_size=(2, 2)))\n",
        "#model.add(Conv2D(64, (5, 5), activation='relu'))\n",
        "#model.add(MaxPooling2D(pool_size=(2, 2)))\n",
        "model.add(Flatten(input_shape=input_shape))\n",
        "model.add(Dense(256, activation='relu'))\n",
        "model.add(Dropout(0.5))\n",
        "model.add(Dense(num_classes, activation='softmax'))"
      ],
      "execution_count": 0,
      "outputs": []
    },
    {
      "cell_type": "code",
      "metadata": {
        "id": "7_o0Yxospphy",
        "colab_type": "code",
        "outputId": "5b640cc8-cf86-4532-b9a8-9560502fc99c",
        "colab": {
          "base_uri": "https://localhost:8080/",
          "height": 277
        }
      },
      "source": [
        "model.summary()"
      ],
      "execution_count": 53,
      "outputs": [
        {
          "output_type": "stream",
          "text": [
            "_________________________________________________________________\n",
            "Layer (type)                 Output Shape              Param #   \n",
            "=================================================================\n",
            "flatten_5 (Flatten)          (None, 784)               0         \n",
            "_________________________________________________________________\n",
            "dense_9 (Dense)              (None, 256)               200960    \n",
            "_________________________________________________________________\n",
            "dropout_5 (Dropout)          (None, 256)               0         \n",
            "_________________________________________________________________\n",
            "dense_10 (Dense)             (None, 10)                2570      \n",
            "=================================================================\n",
            "Total params: 203,530\n",
            "Trainable params: 203,530\n",
            "Non-trainable params: 0\n",
            "_________________________________________________________________\n"
          ],
          "name": "stdout"
        }
      ]
    },
    {
      "cell_type": "code",
      "metadata": {
        "id": "sRAQmwM-2Rlc",
        "colab_type": "code",
        "colab": {}
      },
      "source": [
        "model.compile(loss = keras.losses.categorical_crossentropy,\n",
        "              optimizer = Adam(),\n",
        "              metrics = ['accuracy'])"
      ],
      "execution_count": 0,
      "outputs": []
    },
    {
      "cell_type": "code",
      "metadata": {
        "id": "gdku9SyP2RoF",
        "colab_type": "code",
        "outputId": "36b5fc4c-0994-45bb-8cf2-146f3dd18e2f",
        "colab": {
          "base_uri": "https://localhost:8080/",
          "height": 451
        }
      },
      "source": [
        "\n",
        "history = model.fit(x_train, y_train,\n",
        "                    batch_size=batch_size,\n",
        "                    epochs=epochs,\n",
        "                    verbose=1,\n",
        "                    validation_split=0.3\n",
        "                    )\n",
        "\n",
        "score = model.evaluate(x_test, y_test, verbose=0)\n",
        "print('\\n\\nTest loss:', score[0])\n",
        "print('Test accuracy:', score[1])"
      ],
      "execution_count": 55,
      "outputs": [
        {
          "output_type": "stream",
          "text": [
            "Train on 42000 samples, validate on 18000 samples\n",
            "Epoch 1/10\n",
            "42000/42000 [==============================] - 2s 57us/step - loss: 0.8555 - acc: 0.7028 - val_loss: 0.5381 - val_acc: 0.8149\n",
            "Epoch 2/10\n",
            "42000/42000 [==============================] - 2s 40us/step - loss: 0.5473 - acc: 0.8123 - val_loss: 0.4678 - val_acc: 0.8349\n",
            "Epoch 3/10\n",
            "42000/42000 [==============================] - 2s 40us/step - loss: 0.4862 - acc: 0.8316 - val_loss: 0.4246 - val_acc: 0.8504\n",
            "Epoch 4/10\n",
            "42000/42000 [==============================] - 2s 41us/step - loss: 0.4492 - acc: 0.8429 - val_loss: 0.4061 - val_acc: 0.8533\n",
            "Epoch 5/10\n",
            "42000/42000 [==============================] - 2s 40us/step - loss: 0.4198 - acc: 0.8517 - val_loss: 0.4046 - val_acc: 0.8534\n",
            "Epoch 6/10\n",
            "42000/42000 [==============================] - 2s 40us/step - loss: 0.4103 - acc: 0.8530 - val_loss: 0.3788 - val_acc: 0.8631\n",
            "Epoch 7/10\n",
            "42000/42000 [==============================] - 2s 41us/step - loss: 0.3980 - acc: 0.8590 - val_loss: 0.3752 - val_acc: 0.8659\n",
            "Epoch 8/10\n",
            "42000/42000 [==============================] - 2s 40us/step - loss: 0.3828 - acc: 0.8634 - val_loss: 0.3673 - val_acc: 0.8651\n",
            "Epoch 9/10\n",
            "42000/42000 [==============================] - 2s 40us/step - loss: 0.3729 - acc: 0.8668 - val_loss: 0.3563 - val_acc: 0.8723\n",
            "Epoch 10/10\n",
            "42000/42000 [==============================] - 2s 41us/step - loss: 0.3626 - acc: 0.8702 - val_loss: 0.3565 - val_acc: 0.8723\n",
            "\n",
            "\n",
            "Test loss: 0.3793066751718521\n",
            "Test accuracy: 0.8634\n"
          ],
          "name": "stdout"
        }
      ]
    },
    {
      "cell_type": "code",
      "metadata": {
        "id": "e99nTw1lgTcB",
        "colab_type": "code",
        "colab": {}
      },
      "source": [
        "def plot_history(history):\n",
        "  plt.plot(history.history['acc'])\n",
        "  plt.plot(history.history['val_acc'])\n",
        "  plt.title('model accuracy')\n",
        "  plt.ylabel('accuracy')\n",
        "  plt.xlabel('epoch')\n",
        "  plt.legend(['train', 'val'], loc='upper left')\n",
        "  plt.show()"
      ],
      "execution_count": 0,
      "outputs": []
    },
    {
      "cell_type": "code",
      "metadata": {
        "id": "eIq_OrVAnEo0",
        "colab_type": "code",
        "outputId": "2ebd9494-0628-4323-dc19-43f070f0658c",
        "colab": {
          "base_uri": "https://localhost:8080/",
          "height": 295
        }
      },
      "source": [
        "plot_history(history)"
      ],
      "execution_count": 57,
      "outputs": [
        {
          "output_type": "display_data",
          "data": {
            "image/png": "[encoded data removed]",
            "text/plain": [
              "<Figure size 432x288 with 1 Axes>"
            ]
          },
          "metadata": {
            "tags": []
          }
        }
      ]
    },
    {
      "cell_type": "code",
      "metadata": {
        "id": "rcX5x4uZsWsc",
        "colab_type": "code",
        "outputId": "e9c57b44-bd79-4ae2-eac6-551fad145248",
        "colab": {
          "base_uri": "https://localhost:8080/",
          "height": 287
        }
      },
      "source": [
        "plt.imshow(x_test[16,:,:,0])\n",
        "pred_class = model.predict_classes(x_test[16].reshape(-1, 28, 28, 1))\n",
        "print(pred_class)"
      ],
      "execution_count": 58,
      "outputs": [
        {
          "output_type": "stream",
          "text": [
            "[2]\n"
          ],
          "name": "stdout"
        },
        {
          "output_type": "display_data",
          "data": {
            "image/png": "[encoded data removed]",
            "text/plain": [
              "<Figure size 432x288 with 1 Axes>"
            ]
          },
          "metadata": {
            "tags": []
          }
        }
      ]
    },
    {
      "cell_type": "code",
      "metadata": {
        "id": "30zFi7Otw7fa",
        "colab_type": "code",
        "outputId": "f33acd49-da5f-4406-b0ba-87c47cd01be0",
        "colab": {
          "base_uri": "https://localhost:8080/",
          "height": 35
        }
      },
      "source": [
        "model.save('my_model.h5')\n",
        "\n",
        "saved_model = keras.models.load_model('my_model.h5')\n",
        "pred_class = saved_model.predict_classes(x_test[16].reshape(-1, 28, 28, 1))\n",
        "print(pred_class)"
      ],
      "execution_count": 61,
      "outputs": [
        {
          "output_type": "stream",
          "text": [
            "[2]\n"
          ],
          "name": "stdout"
        }
      ]
    },
    {
      "cell_type": "code",
      "metadata": {
        "id": "aIpE8eUFyPoS",
        "colab_type": "code",
        "colab": {}
      },
      "source": [
        ""
      ],
      "execution_count": 0,
      "outputs": []
    }
  ]
}